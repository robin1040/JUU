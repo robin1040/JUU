{
  "nbformat": 4,
  "nbformat_minor": 0,
  "metadata": {
    "colab": {
      "name": "Triangle area .ipynb",
      "provenance": [],
      "collapsed_sections": [],
      "authorship_tag": "ABX9TyOgvdqZhnnRJ1CD2tUKtGu0",
      "include_colab_link": true
    },
    "kernelspec": {
      "name": "python3",
      "display_name": "Python 3"
    },
    "language_info": {
      "name": "python"
    }
  },
  "cells": [
    {
      "cell_type": "markdown",
      "metadata": {
        "id": "view-in-github",
        "colab_type": "text"
      },
      "source": [
        "<a href=\"https://colab.research.google.com/github/robin1040/JUU/blob/master/Triangle_area_.ipynb\" target=\"_parent\"><img src=\"https://colab.research.google.com/assets/colab-badge.svg\" alt=\"Open In Colab\"/></a>"
      ]
    },
    {
      "cell_type": "code",
      "metadata": {
        "colab": {
          "base_uri": "https://localhost:8080/"
        },
        "id": "vrB8IB51J9Q6",
        "outputId": "e990f72d-b2ba-4be3-d01d-221148f6ab16"
      },
      "source": [
        "\n",
        "higth = float(input(\"Por favor ingrese altura del triangulo: \"))\n",
        "base = float(input(\"Por favor ingrese base del triangulo: \"))\n",
        "\n",
        "area = (base*higth)/2\n",
        "\n",
        "print(\"El area del triangulo es: \" \"{0:.2f}\".format(area))\n"
      ],
      "execution_count": 16,
      "outputs": [
        {
          "output_type": "stream",
          "text": [
            "Por favor ingrese altura del triangulo: 5.456446\n",
            "Por favor ingrese base del triangulo: 7.8464646\n",
            "El area del triangulo es:21.41\n"
          ],
          "name": "stdout"
        }
      ]
    },
    {
      "cell_type": "markdown",
      "metadata": {
        "id": "BlrnKi_-KGNU"
      },
      "source": [
        ""
      ]
    }
  ]
}