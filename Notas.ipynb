{
  "nbformat": 4,
  "nbformat_minor": 0,
  "metadata": {
    "colab": {
      "name": "Notas.ipynb",
      "provenance": [],
      "collapsed_sections": [],
      "authorship_tag": "ABX9TyMCMobFHaoSajAUZ6YzeMWA",
      "include_colab_link": true
    },
    "kernelspec": {
      "name": "python3",
      "display_name": "Python 3"
    },
    "language_info": {
      "name": "python"
    }
  },
  "cells": [
    {
      "cell_type": "markdown",
      "metadata": {
        "id": "view-in-github",
        "colab_type": "text"
      },
      "source": [
        "<a href=\"https://colab.research.google.com/github/robin1040/JUU/blob/master/Notas.ipynb\" target=\"_parent\"><img src=\"https://colab.research.google.com/assets/colab-badge.svg\" alt=\"Open In Colab\"/></a>"
      ]
    },
    {
      "cell_type": "code",
      "metadata": {
        "id": "cb-nVzYcgLgE"
      },
      "source": [
        "Notas/Py"
      ],
      "execution_count": null,
      "outputs": []
    },
    {
      "cell_type": "code",
      "metadata": {
        "colab": {
          "base_uri": "https://localhost:8080/"
        },
        "id": "goYFBR-YggYh",
        "outputId": "4f2f9d05-c733-4dcf-dba2-2d8ae9ae94f3"
      },
      "source": [
        "\n",
        "print(\"Programa para evaluar notas del estudiante y calcular si aprobo o reprobo\")\n",
        "\n",
        "Nota1 = float(input(\"Ingrese su primera nota: \"))\n",
        "Nota2 = float(input(\"Ingrese su segunda nota: \"))\n",
        "Nota3 = float(input(\"Ingrese su tercera nota: \"))\n",
        "\n",
        "if (Nota1 and Nota2 and Nota3) >= 0 and (Nota1 and Nota2 and Nota3) <= 5:\n",
        "\n",
        "  NotaFinal = ((Nota1*30/100*5)+(Nota2*30/100*5) + (Nota3*40/100*5))/5\n",
        "\n",
        "  if NotaFinal >= 3:\n",
        "    print(\"Pasaste la materia con nota: {0:.2f}\".format(NotaFinal))\n",
        "\n",
        "  else:\n",
        "    print(\"Reprobaste la materia con nota: {0:.2f}\".format(NotaFinal))\n",
        "\n",
        "else:\n",
        "\n",
        "  print(\"Ingrese un valor correcto\")\n"
      ],
      "execution_count": 12,
      "outputs": [
        {
          "output_type": "stream",
          "text": [
            "Programa para evaluar notas del estudiante y calcular si aprobo o reprobo\n",
            "Ingrese su primera nota: 0\n",
            "Ingrese su segunda nota: 3\n",
            "Ingrese su tercera nota: 5\n",
            "Reprobaste la materia con nota: 2.90\n"
          ],
          "name": "stdout"
        }
      ]
    },
    {
      "cell_type": "markdown",
      "metadata": {
        "id": "DwUfNZf_gdQZ"
      },
      "source": [
        ""
      ]
    }
  ]
}