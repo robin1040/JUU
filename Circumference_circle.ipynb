{
  "nbformat": 4,
  "nbformat_minor": 0,
  "metadata": {
    "colab": {
      "name": "Circumference circle.ipynb",
      "provenance": [],
      "collapsed_sections": [],
      "authorship_tag": "ABX9TyMeVy9ZFrUClm2t++rPZouh",
      "include_colab_link": true
    },
    "kernelspec": {
      "name": "python3",
      "display_name": "Python 3"
    },
    "language_info": {
      "name": "python"
    }
  },
  "cells": [
    {
      "cell_type": "markdown",
      "metadata": {
        "id": "view-in-github",
        "colab_type": "text"
      },
      "source": [
        "<a href=\"https://colab.research.google.com/github/robin1040/JUU/blob/master/Circumference_circle.ipynb\" target=\"_parent\"><img src=\"https://colab.research.google.com/assets/colab-badge.svg\" alt=\"Open In Colab\"/></a>"
      ]
    },
    {
      "cell_type": "code",
      "metadata": {
        "colab": {
          "base_uri": "https://localhost:8080/"
        },
        "id": "SoY6XX6HR74V",
        "outputId": "0c39735d-7cab-4d91-d904-2167b50c7bca"
      },
      "source": [
        "\n",
        "\n",
        "from math import pi # importamos la libreria math y solo pedimos le pedimos el valor de la funcion pi\n",
        "\n",
        "radio = float(input(\"Ingrese el radio del circulo: \"))\n",
        "\n",
        "diametro = 2*radio\n",
        "\n",
        "circunferencia = diametro*pi # Formula para la circunferencia de un circulo\n",
        "\n",
        "print(\"La longitud de la circunferencia es: {0:.2f}\".format(circunferencia)) # Se imprime el resultado redondeando a 2 cifras decimales\n",
        "\n"
      ],
      "execution_count": 2,
      "outputs": [
        {
          "output_type": "stream",
          "text": [
            "Ingrese el radio del circulo: 2\n",
            "La longitud de la circunferencia es: 12.57\n"
          ],
          "name": "stdout"
        }
      ]
    }
  ]
}