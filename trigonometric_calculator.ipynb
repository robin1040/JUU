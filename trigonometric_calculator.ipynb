{
  "nbformat": 4,
  "nbformat_minor": 0,
  "metadata": {
    "colab": {
      "name": "trigonometric calculator.ipynb",
      "provenance": [],
      "collapsed_sections": [],
      "authorship_tag": "ABX9TyPl+Ga8JJIFeW0nBdl6sU4R",
      "include_colab_link": true
    },
    "kernelspec": {
      "name": "python3",
      "display_name": "Python 3"
    },
    "language_info": {
      "name": "python"
    }
  },
  "cells": [
    {
      "cell_type": "markdown",
      "metadata": {
        "id": "view-in-github",
        "colab_type": "text"
      },
      "source": [
        "<a href=\"https://colab.research.google.com/github/robin1040/JUU/blob/master/trigonometric_calculator.ipynb\" target=\"_parent\"><img src=\"https://colab.research.google.com/assets/colab-badge.svg\" alt=\"Open In Colab\"/></a>"
      ]
    },
    {
      "cell_type": "markdown",
      "metadata": {
        "id": "BzEEKq7zVAF8"
      },
      "source": [
        "trigonometric calculator/PY"
      ]
    },
    {
      "cell_type": "code",
      "metadata": {
        "id": "aUuNevo8UsTJ"
      },
      "source": [
        "from math import sin,cos,tan,pi #Invocamos las funciones que se requieren\n",
        "\n",
        "Angulo = float(input(\"Ingrese angulo: \"))\n",
        "\n",
        "Radianes = (Angulo*pi)/180    #convertimos angulos en radianes\n",
        "\n",
        "Seno = sin(Radianes) \n",
        "\n",
        "Coseno = cos(Radianes)\n",
        "\n",
        "Tangente = tan(Radianes)\n",
        "\n",
        "print(\"El seno del angulo es: {0:.2f}\".format(Seno))\n",
        "print(\"El coseno del angulo es: {0:.2f}\".format(Coseno))\n",
        "print(\"La tangente del angulo es: {0:.2f}\".format(Tangente))\n"
      ],
      "execution_count": null,
      "outputs": []
    }
  ]
}